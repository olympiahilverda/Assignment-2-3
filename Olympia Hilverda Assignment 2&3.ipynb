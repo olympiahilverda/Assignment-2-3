{
 "cells": [
  {
   "cell_type": "code",
   "execution_count": 1,
   "metadata": {},
   "outputs": [],
   "source": [
    "import pandas as pd\n",
    "import numpy as np\n",
    "from sklearn.model_selection import train_test_split\n",
    "import collections\n",
    "from collections import Counter\n",
    "from sklearn import model_selection\n",
    "from sklearn import metrics\n",
    "import os\n",
    "from sklearn.linear_model import LogisticRegression\n",
    "from sklearn.tree import DecisionTreeClassifier\n",
    "from sklearn.neighbors import KNeighborsClassifier\n",
    "from sklearn.ensemble import RandomForestClassifier\n",
    "from sklearn.ensemble import GradientBoostingClassifier \n",
    "from sklearn.ensemble import ExtraTreesClassifier\n",
    "from sklearn.discriminant_analysis import LinearDiscriminantAnalysis\n",
    "from sklearn.naive_bayes import GaussianNB\n",
    "from sklearn.naive_bayes import MultinomialNB\n",
    "from sklearn.svm import SVC\n",
    "from sklearn import tree\n",
    "import matplotlib.pyplot as plt\n",
    "from sklearn.decomposition import PCA\n",
    "from sklearn.preprocessing import StandardScaler\n",
    "from sklearn.metrics import precision_recall_fscore_support as score\n",
    "from sklearn.metrics import accuracy_score as acs\n",
    "import seaborn as sns\n",
    "import pickle\n",
    "from sklearn.metrics import classification_report, confusion_matrix, accuracy_score"
   ]
  },
  {
   "cell_type": "code",
   "execution_count": 2,
   "metadata": {},
   "outputs": [],
   "source": [
    "# open and read the training data \n",
    "df = pd.read_csv(\"train.csv\", encoding='utf8')"
   ]
  },
  {
   "cell_type": "code",
   "execution_count": 3,
   "metadata": {},
   "outputs": [
    {
     "data": {
      "text/html": [
       "<div>\n",
       "<style scoped>\n",
       "    .dataframe tbody tr th:only-of-type {\n",
       "        vertical-align: middle;\n",
       "    }\n",
       "\n",
       "    .dataframe tbody tr th {\n",
       "        vertical-align: top;\n",
       "    }\n",
       "\n",
       "    .dataframe thead th {\n",
       "        text-align: right;\n",
       "    }\n",
       "</style>\n",
       "<table border=\"1\" class=\"dataframe\">\n",
       "  <thead>\n",
       "    <tr style=\"text-align: right;\">\n",
       "      <th></th>\n",
       "      <th>label</th>\n",
       "      <th>id</th>\n",
       "      <th>visitTime</th>\n",
       "      <th>purchaseTime</th>\n",
       "      <th>hour</th>\n",
       "      <th>C1</th>\n",
       "      <th>C2</th>\n",
       "      <th>C3</th>\n",
       "      <th>C4</th>\n",
       "      <th>C5</th>\n",
       "      <th>...</th>\n",
       "      <th>N4</th>\n",
       "      <th>N5</th>\n",
       "      <th>N6</th>\n",
       "      <th>N7</th>\n",
       "      <th>N8</th>\n",
       "      <th>N9</th>\n",
       "      <th>N10</th>\n",
       "      <th>C10</th>\n",
       "      <th>C11</th>\n",
       "      <th>C12</th>\n",
       "    </tr>\n",
       "  </thead>\n",
       "  <tbody>\n",
       "    <tr>\n",
       "      <td>0</td>\n",
       "      <td>-1</td>\n",
       "      <td>37</td>\n",
       "      <td>19274330</td>\n",
       "      <td>-1</td>\n",
       "      <td>0</td>\n",
       "      <td>2569487005</td>\n",
       "      <td>1830830742</td>\n",
       "      <td>4228834423</td>\n",
       "      <td>652481754</td>\n",
       "      <td>2967512603</td>\n",
       "      <td>...</td>\n",
       "      <td>0</td>\n",
       "      <td>0</td>\n",
       "      <td>0</td>\n",
       "      <td>0</td>\n",
       "      <td>0</td>\n",
       "      <td>0</td>\n",
       "      <td>0</td>\n",
       "      <td>419316267</td>\n",
       "      <td>3617851689</td>\n",
       "      <td>4220791646</td>\n",
       "    </tr>\n",
       "    <tr>\n",
       "      <td>1</td>\n",
       "      <td>-1</td>\n",
       "      <td>55</td>\n",
       "      <td>19274334</td>\n",
       "      <td>-1</td>\n",
       "      <td>0</td>\n",
       "      <td>3191875643</td>\n",
       "      <td>403381353</td>\n",
       "      <td>1238330876</td>\n",
       "      <td>652481754</td>\n",
       "      <td>2967512603</td>\n",
       "      <td>...</td>\n",
       "      <td>0</td>\n",
       "      <td>0</td>\n",
       "      <td>0</td>\n",
       "      <td>0</td>\n",
       "      <td>1</td>\n",
       "      <td>0</td>\n",
       "      <td>0</td>\n",
       "      <td>1968545380</td>\n",
       "      <td>3831440054</td>\n",
       "      <td>1213938795</td>\n",
       "    </tr>\n",
       "    <tr>\n",
       "      <td>2</td>\n",
       "      <td>-1</td>\n",
       "      <td>114</td>\n",
       "      <td>19274353</td>\n",
       "      <td>-1</td>\n",
       "      <td>0</td>\n",
       "      <td>2634604934</td>\n",
       "      <td>403381353</td>\n",
       "      <td>1928325921</td>\n",
       "      <td>652481754</td>\n",
       "      <td>2967512603</td>\n",
       "      <td>...</td>\n",
       "      <td>0</td>\n",
       "      <td>0</td>\n",
       "      <td>0</td>\n",
       "      <td>0</td>\n",
       "      <td>0</td>\n",
       "      <td>0</td>\n",
       "      <td>0</td>\n",
       "      <td>1405802835</td>\n",
       "      <td>2379633508</td>\n",
       "      <td>1284343215</td>\n",
       "    </tr>\n",
       "    <tr>\n",
       "      <td>3</td>\n",
       "      <td>-1</td>\n",
       "      <td>128</td>\n",
       "      <td>19274358</td>\n",
       "      <td>-1</td>\n",
       "      <td>0</td>\n",
       "      <td>2569487005</td>\n",
       "      <td>403381353</td>\n",
       "      <td>296915027</td>\n",
       "      <td>652481754</td>\n",
       "      <td>2967512603</td>\n",
       "      <td>...</td>\n",
       "      <td>0</td>\n",
       "      <td>0</td>\n",
       "      <td>0</td>\n",
       "      <td>0</td>\n",
       "      <td>0</td>\n",
       "      <td>0</td>\n",
       "      <td>0</td>\n",
       "      <td>2299319102</td>\n",
       "      <td>3617851689</td>\n",
       "      <td>4220791646</td>\n",
       "    </tr>\n",
       "    <tr>\n",
       "      <td>4</td>\n",
       "      <td>-1</td>\n",
       "      <td>164</td>\n",
       "      <td>19274367</td>\n",
       "      <td>-1</td>\n",
       "      <td>0</td>\n",
       "      <td>2569487005</td>\n",
       "      <td>403381353</td>\n",
       "      <td>681762206</td>\n",
       "      <td>652481754</td>\n",
       "      <td>2967512603</td>\n",
       "      <td>...</td>\n",
       "      <td>0</td>\n",
       "      <td>0</td>\n",
       "      <td>0</td>\n",
       "      <td>0</td>\n",
       "      <td>0</td>\n",
       "      <td>0</td>\n",
       "      <td>0</td>\n",
       "      <td>1306075469</td>\n",
       "      <td>3617851689</td>\n",
       "      <td>4220791646</td>\n",
       "    </tr>\n",
       "    <tr>\n",
       "      <td>5</td>\n",
       "      <td>-1</td>\n",
       "      <td>187</td>\n",
       "      <td>19274374</td>\n",
       "      <td>-1</td>\n",
       "      <td>0</td>\n",
       "      <td>3302106226</td>\n",
       "      <td>403381353</td>\n",
       "      <td>1928325921</td>\n",
       "      <td>652481754</td>\n",
       "      <td>2967512603</td>\n",
       "      <td>...</td>\n",
       "      <td>0</td>\n",
       "      <td>0</td>\n",
       "      <td>0</td>\n",
       "      <td>0</td>\n",
       "      <td>0</td>\n",
       "      <td>0</td>\n",
       "      <td>0</td>\n",
       "      <td>3182036626</td>\n",
       "      <td>2379633508</td>\n",
       "      <td>1284343215</td>\n",
       "    </tr>\n",
       "    <tr>\n",
       "      <td>6</td>\n",
       "      <td>-1</td>\n",
       "      <td>191</td>\n",
       "      <td>19274375</td>\n",
       "      <td>-1</td>\n",
       "      <td>0</td>\n",
       "      <td>4176412662</td>\n",
       "      <td>1830830742</td>\n",
       "      <td>2406323306</td>\n",
       "      <td>2308170622</td>\n",
       "      <td>2967512603</td>\n",
       "      <td>...</td>\n",
       "      <td>0</td>\n",
       "      <td>0</td>\n",
       "      <td>0</td>\n",
       "      <td>0</td>\n",
       "      <td>0</td>\n",
       "      <td>0</td>\n",
       "      <td>0</td>\n",
       "      <td>2514494748</td>\n",
       "      <td>3831440054</td>\n",
       "      <td>1213938795</td>\n",
       "    </tr>\n",
       "    <tr>\n",
       "      <td>7</td>\n",
       "      <td>-1</td>\n",
       "      <td>194</td>\n",
       "      <td>19274376</td>\n",
       "      <td>-1</td>\n",
       "      <td>0</td>\n",
       "      <td>3199195787</td>\n",
       "      <td>403381353</td>\n",
       "      <td>450016631</td>\n",
       "      <td>652481754</td>\n",
       "      <td>2967512603</td>\n",
       "      <td>...</td>\n",
       "      <td>0</td>\n",
       "      <td>0</td>\n",
       "      <td>0</td>\n",
       "      <td>0</td>\n",
       "      <td>0</td>\n",
       "      <td>0</td>\n",
       "      <td>0</td>\n",
       "      <td>655384408</td>\n",
       "      <td>621902171</td>\n",
       "      <td>1213938795</td>\n",
       "    </tr>\n",
       "    <tr>\n",
       "      <td>8</td>\n",
       "      <td>-1</td>\n",
       "      <td>212</td>\n",
       "      <td>19274384</td>\n",
       "      <td>-1</td>\n",
       "      <td>0</td>\n",
       "      <td>2569487005</td>\n",
       "      <td>403381353</td>\n",
       "      <td>3375570753</td>\n",
       "      <td>652481754</td>\n",
       "      <td>2967512603</td>\n",
       "      <td>...</td>\n",
       "      <td>0</td>\n",
       "      <td>0</td>\n",
       "      <td>0</td>\n",
       "      <td>0</td>\n",
       "      <td>0</td>\n",
       "      <td>0</td>\n",
       "      <td>0</td>\n",
       "      <td>1380655399</td>\n",
       "      <td>3617851689</td>\n",
       "      <td>4220791646</td>\n",
       "    </tr>\n",
       "    <tr>\n",
       "      <td>9</td>\n",
       "      <td>-1</td>\n",
       "      <td>227</td>\n",
       "      <td>19274387</td>\n",
       "      <td>-1</td>\n",
       "      <td>0</td>\n",
       "      <td>488865880</td>\n",
       "      <td>403381353</td>\n",
       "      <td>1129279372</td>\n",
       "      <td>652481754</td>\n",
       "      <td>2967512603</td>\n",
       "      <td>...</td>\n",
       "      <td>2</td>\n",
       "      <td>0</td>\n",
       "      <td>0</td>\n",
       "      <td>0</td>\n",
       "      <td>2</td>\n",
       "      <td>0</td>\n",
       "      <td>0</td>\n",
       "      <td>2984360656</td>\n",
       "      <td>3831440054</td>\n",
       "      <td>830706566</td>\n",
       "    </tr>\n",
       "  </tbody>\n",
       "</table>\n",
       "<p>10 rows × 27 columns</p>\n",
       "</div>"
      ],
      "text/plain": [
       "   label   id  visitTime  purchaseTime  hour          C1          C2  \\\n",
       "0     -1   37   19274330            -1     0  2569487005  1830830742   \n",
       "1     -1   55   19274334            -1     0  3191875643   403381353   \n",
       "2     -1  114   19274353            -1     0  2634604934   403381353   \n",
       "3     -1  128   19274358            -1     0  2569487005   403381353   \n",
       "4     -1  164   19274367            -1     0  2569487005   403381353   \n",
       "5     -1  187   19274374            -1     0  3302106226   403381353   \n",
       "6     -1  191   19274375            -1     0  4176412662  1830830742   \n",
       "7     -1  194   19274376            -1     0  3199195787   403381353   \n",
       "8     -1  212   19274384            -1     0  2569487005   403381353   \n",
       "9     -1  227   19274387            -1     0   488865880   403381353   \n",
       "\n",
       "           C3          C4          C5  ...  N4  N5  N6  N7  N8  N9  N10  \\\n",
       "0  4228834423   652481754  2967512603  ...   0   0   0   0   0   0    0   \n",
       "1  1238330876   652481754  2967512603  ...   0   0   0   0   1   0    0   \n",
       "2  1928325921   652481754  2967512603  ...   0   0   0   0   0   0    0   \n",
       "3   296915027   652481754  2967512603  ...   0   0   0   0   0   0    0   \n",
       "4   681762206   652481754  2967512603  ...   0   0   0   0   0   0    0   \n",
       "5  1928325921   652481754  2967512603  ...   0   0   0   0   0   0    0   \n",
       "6  2406323306  2308170622  2967512603  ...   0   0   0   0   0   0    0   \n",
       "7   450016631   652481754  2967512603  ...   0   0   0   0   0   0    0   \n",
       "8  3375570753   652481754  2967512603  ...   0   0   0   0   0   0    0   \n",
       "9  1129279372   652481754  2967512603  ...   2   0   0   0   2   0    0   \n",
       "\n",
       "          C10         C11         C12  \n",
       "0   419316267  3617851689  4220791646  \n",
       "1  1968545380  3831440054  1213938795  \n",
       "2  1405802835  2379633508  1284343215  \n",
       "3  2299319102  3617851689  4220791646  \n",
       "4  1306075469  3617851689  4220791646  \n",
       "5  3182036626  2379633508  1284343215  \n",
       "6  2514494748  3831440054  1213938795  \n",
       "7   655384408   621902171  1213938795  \n",
       "8  1380655399  3617851689  4220791646  \n",
       "9  2984360656  3831440054   830706566  \n",
       "\n",
       "[10 rows x 27 columns]"
      ]
     },
     "execution_count": 3,
     "metadata": {},
     "output_type": "execute_result"
    }
   ],
   "source": [
    "# Have a look at the dataset: it has 27 columns \n",
    "# The prefix N denotes the 10 numerical variables while the prefix C denotes the 12 categorical variables \n",
    "# The values of the categorical features have been HASHED onto 32 bits for anonymization purposes\n",
    "df.head(10)"
   ]
  },
  {
   "cell_type": "code",
   "execution_count": 4,
   "metadata": {},
   "outputs": [
    {
     "data": {
      "text/plain": [
       "Index(['label', 'id', 'visitTime', 'purchaseTime', 'hour', 'C1', 'C2', 'C3',\n",
       "       'C4', 'C5', 'C6', 'C7', 'C8', 'N1', 'C9', 'N2', 'N3', 'N4', 'N5', 'N6',\n",
       "       'N7', 'N8', 'N9', 'N10', 'C10', 'C11', 'C12'],\n",
       "      dtype='object')"
      ]
     },
     "execution_count": 4,
     "metadata": {},
     "output_type": "execute_result"
    }
   ],
   "source": [
    "df.columns"
   ]
  },
  {
   "cell_type": "code",
   "execution_count": 5,
   "metadata": {},
   "outputs": [
    {
     "data": {
      "text/plain": [
       "-1    31371\n",
       " 1       57\n",
       "Name: label, dtype: int64"
      ]
     },
     "execution_count": 5,
     "metadata": {},
     "output_type": "execute_result"
    }
   ],
   "source": [
    "# Let's have a look at our target variable: 1 is purchase and -1 is otherwise \n",
    "# It is highly unbalanced: a ratio of 550 to 1\n",
    "df['label'].value_counts()"
   ]
  },
  {
   "cell_type": "code",
   "execution_count": 6,
   "metadata": {},
   "outputs": [
    {
     "data": {
      "text/plain": [
       "2569487005    8430\n",
       "2108523568       7\n",
       "2084406919       6\n",
       "3438432991       5\n",
       "256353298        5\n",
       "              ... \n",
       "1427705163       1\n",
       "4180196685       1\n",
       "596547023        1\n",
       "3559230936       1\n",
       "77004800         1\n",
       "Name: C1, Length: 22595, dtype: int64"
      ]
     },
     "execution_count": 6,
     "metadata": {},
     "output_type": "execute_result"
    }
   ],
   "source": [
    "# We do not know what they mean but we can have a look at some of our variables\n",
    "df['C1'].value_counts()\n",
    "# This categorical variable takes many different values (the same goes for C3 and C10)\n",
    "# This can add noise to our data so I will consider removing them"
   ]
  },
  {
   "cell_type": "code",
   "execution_count": 9,
   "metadata": {},
   "outputs": [],
   "source": [
    "label = df['label'].values"
   ]
  },
  {
   "cell_type": "code",
   "execution_count": 10,
   "metadata": {},
   "outputs": [],
   "source": [
    "# We delete label \n",
    "# We delete id because it is the unique ID to each user session, the same goes for visitTime \n",
    "# We take purchassTime away because it takes the same values as label \n",
    "# I end removing all categorical variables expect C7 and C9, it leads to better recall\n",
    "data = df.drop(columns=['label','id','visitTime','purchaseTime', 'C1', 'C2', 'C3', 'C4', 'C5', 'C6', 'C8', 'C10', 'C11', 'C12']).values"
   ]
  },
  {
   "cell_type": "code",
   "execution_count": 11,
   "metadata": {},
   "outputs": [
    {
     "data": {
      "text/plain": [
       "array([-1, -1, -1, -1, -1])"
      ]
     },
     "execution_count": 11,
     "metadata": {},
     "output_type": "execute_result"
    }
   ],
   "source": [
    "X = data.copy()\n",
    "y = np.array(label.copy())\n",
    "y[:5]"
   ]
  },
  {
   "cell_type": "markdown",
   "metadata": {},
   "source": [
    "# Split data into training and testing"
   ]
  },
  {
   "cell_type": "code",
   "execution_count": 12,
   "metadata": {},
   "outputs": [
    {
     "name": "stdout",
     "output_type": "stream",
     "text": [
      "2\n"
     ]
    }
   ],
   "source": [
    "# We use 80% of the values for training and 20% for testing \n",
    "\n",
    "y = (y > 0)*1\n",
    "nb_class = len(set(y))\n",
    "print(nb_class)\n",
    "id_Train = np.array([None]*nb_class)\n",
    "id_Test = np.array([None]*nb_class)\n",
    "for i in range(nb_class):\n",
    "    id_i = np.where(y==i)[0]\n",
    "    id_i_train, id_i_test = train_test_split(id_i, test_size=0.2)\n",
    "    id_Train[i] = id_i_train\n",
    "    id_Test[i] = id_i_test\n",
    "\n",
    "id_Train = np.concatenate(id_Train)\n",
    "id_Test = np.concatenate(id_Test)\n",
    "\n",
    "X_train = X[id_Train]\n",
    "Y_train = y[id_Train]\n",
    "X_test = X[id_Test]\n",
    "Y_test = y[id_Test]"
   ]
  },
  {
   "cell_type": "code",
   "execution_count": 13,
   "metadata": {},
   "outputs": [
    {
     "data": {
      "text/plain": [
       "array([         8, 2303407174,          0, 3790028721,          0,\n",
       "                0,          0,          0,          0,          0,\n",
       "                0,          0,          0])"
      ]
     },
     "execution_count": 13,
     "metadata": {},
     "output_type": "execute_result"
    }
   ],
   "source": [
    "X_train[0]"
   ]
  },
  {
   "cell_type": "code",
   "execution_count": 14,
   "metadata": {},
   "outputs": [
    {
     "data": {
      "text/plain": [
       "25141"
      ]
     },
     "execution_count": 14,
     "metadata": {},
     "output_type": "execute_result"
    }
   ],
   "source": [
    "len(X_train)\n",
    "# The training set now has 25 141 rows (80% of 31 428)"
   ]
  },
  {
   "cell_type": "code",
   "execution_count": 15,
   "metadata": {},
   "outputs": [
    {
     "data": {
      "text/plain": [
       "6287"
      ]
     },
     "execution_count": 15,
     "metadata": {},
     "output_type": "execute_result"
    }
   ],
   "source": [
    "len(X_test)"
   ]
  },
  {
   "cell_type": "markdown",
   "metadata": {},
   "source": [
    "# Re-sampling"
   ]
  },
  {
   "cell_type": "code",
   "execution_count": 16,
   "metadata": {},
   "outputs": [],
   "source": [
    "# The baseline code chose to resample to a ratio of 5:1\n",
    "# I adjust the code to have a ratio of 100:1\n",
    "# Moving from 550:1 to 5:1 is too big of a change and too far from reality"
   ]
  },
  {
   "cell_type": "code",
   "execution_count": 17,
   "metadata": {},
   "outputs": [
    {
     "name": "stdout",
     "output_type": "stream",
     "text": [
      "before resampling\n",
      "[25096, 45]\n",
      "after resampling\n",
      "[22833, 235]\n"
     ]
    }
   ],
   "source": [
    "# We rebalance the training set\n",
    "# Here, we undersample the number of -1 observations from 25 096 to 22 833 \n",
    "# We also oversample the number of 1 observations from 45 to 235\n",
    "\n",
    "id_toTrain = np.array([np.where(Y_train==i)[0] for i in range(nb_class)])\n",
    "\n",
    "size_max = [len(id_toTrain[i]) for i in range(nb_class)]\n",
    "print(\"before resampling\")\n",
    "print(size_max)\n",
    "\n",
    "blc = 150\n",
    "for i in range(len(size_max)):\n",
    "    if size_max[i] > blc:\n",
    "        size_max[i] = int(blc*(np.log10(size_max[i]/blc)+150))\n",
    "    else:\n",
    "        size_max[i] = int(blc/(np.log10(blc/size_max[i]+1)))\n",
    "\n",
    "print(\"after resampling\")\n",
    "print(size_max)\n",
    "for i in range(nb_class):\n",
    "    if len(id_toTrain[i]) > size_max[i]:\n",
    "        id_toTrain[i], tmp = train_test_split(id_toTrain[i], test_size=1-size_max[i]/len(id_toTrain[i]))\n",
    "    else:\n",
    "        id_toTrain[i] = np.concatenate((id_toTrain[i], id_toTrain[i][np.random.randint(len(id_toTrain[i]), size=int(size_max[i]-len(id_toTrain[i])))]))\n",
    "id_toTrain = np.concatenate(id_toTrain)\n",
    "X_toTrain = X_train[id_toTrain]\n",
    "Y_toTrain = Y_train[id_toTrain]\n",
    "\n",
    "# The ratio was 550:1 and now it is 100:1"
   ]
  },
  {
   "cell_type": "code",
   "execution_count": 18,
   "metadata": {},
   "outputs": [
    {
     "name": "stdout",
     "output_type": "stream",
     "text": [
      "before resampling\n",
      "[6275, 12]\n",
      "after resampling\n",
      "[6087, 62]\n"
     ]
    }
   ],
   "source": [
    "# In order totrain my model I will now also rebalance the test set\n",
    "# I change the blc to have less rows \n",
    "# In the end I will test my final model on un unbalanced test set\n",
    "\n",
    "id_toTest = np.array([np.where(Y_test==i)[0] for i in range(nb_class)])\n",
    "\n",
    "size_max = [len(id_toTest[i]) for i in range(nb_class)]\n",
    "print(\"before resampling\")\n",
    "print(size_max)\n",
    "\n",
    "blc = 40\n",
    "for i in range(len(size_max)):\n",
    "    if size_max[i] > blc:\n",
    "        size_max[i] = int(blc*(np.log10(size_max[i]/blc)+150))\n",
    "    else:\n",
    "        size_max[i] = int(blc/(np.log10(blc/size_max[i]+1)))\n",
    "\n",
    "print(\"after resampling\")\n",
    "print(size_max)\n",
    "for i in range(nb_class):\n",
    "    if len(id_toTest[i]) > size_max[i]:\n",
    "        id_toTest[i], tmp = train_test_split(id_toTest[i], test_size=1-size_max[i]/len(id_toTest[i]))\n",
    "    else:\n",
    "        id_toTest[i] = np.concatenate((id_toTest[i], id_toTest[i][np.random.randint(len(id_toTest[i]), size=int(size_max[i]-len(id_toTest[i])))]))\n",
    "id_toTest = np.concatenate(id_toTest)\n",
    "X_toTest = X_test[id_toTest]\n",
    "Y_toTest = Y_test[id_toTest]\n",
    "\n",
    "# The ratio for the test set is 100:1"
   ]
  },
  {
   "cell_type": "code",
   "execution_count": 19,
   "metadata": {},
   "outputs": [
    {
     "data": {
      "text/plain": [
       "23068"
      ]
     },
     "execution_count": 19,
     "metadata": {},
     "output_type": "execute_result"
    }
   ],
   "source": [
    "len(X_toTrain)\n",
    "# The train set now has 23068 rows"
   ]
  },
  {
   "cell_type": "code",
   "execution_count": 20,
   "metadata": {},
   "outputs": [
    {
     "data": {
      "text/plain": [
       "6148"
      ]
     },
     "execution_count": 20,
     "metadata": {},
     "output_type": "execute_result"
    }
   ],
   "source": [
    "len(X_toTest)\n",
    "# The test set now has 6148 rows"
   ]
  },
  {
   "cell_type": "markdown",
   "metadata": {},
   "source": [
    "# Model Selection"
   ]
  },
  {
   "cell_type": "code",
   "execution_count": 21,
   "metadata": {},
   "outputs": [],
   "source": [
    "# I try and improve on the baseline model by using a different algorithm than XGBoost\n",
    "# We load different classification algorithms \n",
    "models = []\n",
    "models.append(('LR', LogisticRegression(solver='liblinear',multi_class='ovr')))\n",
    "models.append(('GNB', GaussianNB()))\n",
    "models.append(('MNB', MultinomialNB()))\n",
    "models.append(('KNN', KNeighborsClassifier()))\n",
    "models.append(('CART', DecisionTreeClassifier(max_depth=None)))\n",
    "models.append(('RF', RandomForestClassifier(n_estimators=100, max_depth=None)))\n",
    "models.append(('ET', ExtraTreesClassifier(max_depth=None)))\n",
    "models.append(('GBDT', GradientBoostingClassifier (n_estimators=100, learning_rate=1.0, max_depth=1)))\n",
    "models.append(('SVM',SVC(gamma='auto',max_iter=3000,probability=True)))"
   ]
  },
  {
   "cell_type": "code",
   "execution_count": 28,
   "metadata": {
    "scrolled": false
   },
   "outputs": [
    {
     "name": "stderr",
     "output_type": "stream",
     "text": [
      "/opt/anaconda3/lib/python3.7/site-packages/sklearn/metrics/classification.py:1437: UndefinedMetricWarning: Precision and F-score are ill-defined and being set to 0.0 due to no predicted samples.\n",
      "  'precision', 'predicted', average, warn_for)\n",
      "/opt/anaconda3/lib/python3.7/site-packages/sklearn/metrics/classification.py:1437: UndefinedMetricWarning: Precision and F-score are ill-defined and being set to 0.0 due to no predicted samples.\n",
      "  'precision', 'predicted', average, warn_for)\n"
     ]
    },
    {
     "name": "stdout",
     "output_type": "stream",
     "text": [
      "LR: 0.000000 0.000000 0.000000 0.989915\n",
      "GNB: 0.000000 0.000000 0.000000 0.989915\n",
      "MNB: 0.021524 0.806452 0.041929 0.628334\n",
      "KNN: 0.823529 0.451613 0.583333 0.993494\n",
      "CART: 0.953846 1.000000 0.976378 0.999512\n",
      "RF: 1.000000 0.838710 0.912281 0.998373\n",
      "ET: 1.000000 0.322581 0.487805 0.993169\n"
     ]
    },
    {
     "name": "stderr",
     "output_type": "stream",
     "text": [
      "/opt/anaconda3/lib/python3.7/site-packages/sklearn/ensemble/forest.py:245: FutureWarning: The default value of n_estimators will change from 10 in version 0.20 to 100 in 0.22.\n",
      "  \"10 in version 0.20 to 100 in 0.22.\", FutureWarning)\n"
     ]
    },
    {
     "name": "stdout",
     "output_type": "stream",
     "text": [
      "GBDT: 0.712644 1.000000 0.832215 0.995934\n",
      "SVM: 0.000000 0.000000 0.000000 0.913630\n"
     ]
    }
   ],
   "source": [
    "# Evaluate each model and compare metrics\n",
    "results = []\n",
    "names = []\n",
    "for name, model in models:\n",
    "    model = model.fit(X_toTrain, Y_toTrain)\n",
    "    y_pred = model.predict(X_toTest)\n",
    "    precision, recall, fscore, train_support = score(Y_toTest, y_pred, pos_label=1, average='binary')\n",
    "    accuracy = acs(Y_toTest,y_pred)\n",
    "    results.append(recall)\n",
    "    results.append(fscore)\n",
    "    results.append(accuracy)\n",
    "    names.append(name)\n",
    "    msg = \"%s: %f %f %f %f\" % (name, precision.mean(), recall.mean(), fscore.mean(), accuracy.mean())\n",
    "    print(msg)\n",
    "    \n",
    "# Precision, Recall, FScore, Accuracy\n",
    "# CART is the best taking into account all metrics\n",
    "# It has a recall of 1, which is what we want to prioritize here"
   ]
  },
  {
   "cell_type": "markdown",
   "metadata": {},
   "source": [
    "# CART"
   ]
  },
  {
   "cell_type": "code",
   "execution_count": 29,
   "metadata": {},
   "outputs": [
    {
     "name": "stdout",
     "output_type": "stream",
     "text": [
      "Precision: 0.969 / Recall: 1.0 / F1-Score: 0.984 / Accuracy: 1.0\n"
     ]
    }
   ],
   "source": [
    "model = DecisionTreeClassifier()\n",
    "model = model.fit(X_toTrain, Y_toTrain)\n",
    "y_pred = model.predict(X_toTest)\n",
    "\n",
    "precision, recall, fscore, train_support = score(Y_toTest, y_pred, pos_label=1, average='binary')\n",
    "print('Precision: {} / Recall: {} / F1-Score: {} / Accuracy: {}'.format(round(precision, 3), round(recall, 3), round(fscore,3), round(acs(Y_toTest,y_pred), 3)))"
   ]
  },
  {
   "cell_type": "code",
   "execution_count": 30,
   "metadata": {},
   "outputs": [
    {
     "data": {
      "image/png": "[encoded data removed]",
      "text/plain": [
       "<Figure size 432x288 with 2 Axes>"
      ]
     },
     "metadata": {
      "needs_background": "light"
     },
     "output_type": "display_data"
    }
   ],
   "source": [
    "from sklearn.metrics import confusion_matrix\n",
    "cm = confusion_matrix(Y_toTest, y_pred)\n",
    "class_label = [\"No\", \"Yes\"]\n",
    "df_cm = pd.DataFrame(cm, index=class_label,columns=class_label)\n",
    "sns.heatmap(df_cm, annot=True, fmt='d')\n",
    "plt.title(\"Confusion Matrix\")\n",
    "plt.xlabel(\"Predicted Label\")\n",
    "plt.ylabel(\"True Label\")\n",
    "#plt.savefig('Confusion Matrix.jpg', dpi=1200)\n",
    "plt.show()\n",
    "\n",
    "# The model all the 62 purchases correctly "
   ]
  },
  {
   "cell_type": "markdown",
   "metadata": {},
   "source": [
    "# Model Evaluation"
   ]
  },
  {
   "cell_type": "code",
   "execution_count": 227,
   "metadata": {},
   "outputs": [],
   "source": [
    "# Now that the model is trained, we will test it on an unbalanced test set (that is true to reality)\n",
    "# Re run the code without resampling "
   ]
  },
  {
   "cell_type": "code",
   "execution_count": 31,
   "metadata": {},
   "outputs": [
    {
     "name": "stdout",
     "output_type": "stream",
     "text": [
      "Precision: 0.8 / Recall: 1.0 / F1-Score: 0.889 / Accuracy: 1.0\n"
     ]
    }
   ],
   "source": [
    "model = DecisionTreeClassifier()\n",
    "model = model.fit(X_toTrain, Y_toTrain)\n",
    "y_pred = model.predict(X_test)\n",
    "\n",
    "precision, recall, fscore, train_support = score(Y_test, y_pred, pos_label=1, average='binary')\n",
    "print('Precision: {} / Recall: {} / F1-Score: {} / Accuracy: {}'.format(round(precision, 3), round(recall, 3), round(fscore,3), round(acs(Y_test,y_pred), 3)))"
   ]
  },
  {
   "cell_type": "code",
   "execution_count": 32,
   "metadata": {},
   "outputs": [
    {
     "data": {
      "image/png": "[encoded data removed]",
      "text/plain": [
       "<Figure size 432x288 with 2 Axes>"
      ]
     },
     "metadata": {
      "needs_background": "light"
     },
     "output_type": "display_data"
    }
   ],
   "source": [
    "from sklearn.metrics import confusion_matrix\n",
    "cm = confusion_matrix(Y_test, y_pred)\n",
    "class_label = [\"No\", \"Yes\"]\n",
    "df_cm = pd.DataFrame(cm, index=class_label,columns=class_label)\n",
    "sns.heatmap(df_cm, annot=True, fmt='d')\n",
    "plt.title(\"Confusion Matrix\")\n",
    "plt.xlabel(\"Predicted Label\")\n",
    "plt.ylabel(\"True Label\")\n",
    "#plt.savefig('Confusion Matrix.jpg', dpi=1200)\n",
    "plt.show()\n",
    "\n",
    "# The model classifies all the 12 purchases from the unbalanced dataset correctly"
   ]
  },
  {
   "cell_type": "code",
   "execution_count": null,
   "metadata": {},
   "outputs": [],
   "source": [
    "# I am satisfied with this result so I save this model "
   ]
  },
  {
   "cell_type": "markdown",
   "metadata": {},
   "source": [
    "# Testing the test.csv data "
   ]
  },
  {
   "cell_type": "code",
   "execution_count": 33,
   "metadata": {},
   "outputs": [],
   "source": [
    "# Save the model to disk\n",
    "filename = '/Users/olympiahilverda/Desktop/ML/ass 2-3/model.sav'\n",
    "pickle.dump(model, open(filename, 'wb'))\n",
    "# load the model from disk\n",
    "loaded_model = pickle.load(open(filename, 'rb'))"
   ]
  },
  {
   "cell_type": "code",
   "execution_count": 34,
   "metadata": {},
   "outputs": [
    {
     "data": {
      "text/html": [
       "<div>\n",
       "<style scoped>\n",
       "    .dataframe tbody tr th:only-of-type {\n",
       "        vertical-align: middle;\n",
       "    }\n",
       "\n",
       "    .dataframe tbody tr th {\n",
       "        vertical-align: top;\n",
       "    }\n",
       "\n",
       "    .dataframe thead th {\n",
       "        text-align: right;\n",
       "    }\n",
       "</style>\n",
       "<table border=\"1\" class=\"dataframe\">\n",
       "  <thead>\n",
       "    <tr style=\"text-align: right;\">\n",
       "      <th></th>\n",
       "      <th>label</th>\n",
       "      <th>id</th>\n",
       "      <th>visitTime</th>\n",
       "      <th>purchaseTime</th>\n",
       "      <th>hour</th>\n",
       "      <th>C1</th>\n",
       "      <th>C2</th>\n",
       "      <th>C3</th>\n",
       "      <th>C4</th>\n",
       "      <th>C5</th>\n",
       "      <th>...</th>\n",
       "      <th>N4</th>\n",
       "      <th>N5</th>\n",
       "      <th>N6</th>\n",
       "      <th>N7</th>\n",
       "      <th>N8</th>\n",
       "      <th>N9</th>\n",
       "      <th>N10</th>\n",
       "      <th>C10</th>\n",
       "      <th>C11</th>\n",
       "      <th>C12</th>\n",
       "    </tr>\n",
       "  </thead>\n",
       "  <tbody>\n",
       "    <tr>\n",
       "      <td>0</td>\n",
       "      <td>-1</td>\n",
       "      <td>1</td>\n",
       "      <td>19360733</td>\n",
       "      <td>-1</td>\n",
       "      <td>0</td>\n",
       "      <td>2569487005</td>\n",
       "      <td>403381353</td>\n",
       "      <td>681762206</td>\n",
       "      <td>652481754</td>\n",
       "      <td>2967512603</td>\n",
       "      <td>...</td>\n",
       "      <td>0</td>\n",
       "      <td>0</td>\n",
       "      <td>0</td>\n",
       "      <td>0</td>\n",
       "      <td>0</td>\n",
       "      <td>0</td>\n",
       "      <td>0</td>\n",
       "      <td>2128770044</td>\n",
       "      <td>3617851689</td>\n",
       "      <td>4220791646</td>\n",
       "    </tr>\n",
       "    <tr>\n",
       "      <td>1</td>\n",
       "      <td>-1</td>\n",
       "      <td>2</td>\n",
       "      <td>19360734</td>\n",
       "      <td>-1</td>\n",
       "      <td>0</td>\n",
       "      <td>2416811818</td>\n",
       "      <td>1235983246</td>\n",
       "      <td>3653557526</td>\n",
       "      <td>652481754</td>\n",
       "      <td>2116767313</td>\n",
       "      <td>...</td>\n",
       "      <td>0</td>\n",
       "      <td>0</td>\n",
       "      <td>0</td>\n",
       "      <td>0</td>\n",
       "      <td>0</td>\n",
       "      <td>0</td>\n",
       "      <td>0</td>\n",
       "      <td>4256459078</td>\n",
       "      <td>2379633508</td>\n",
       "      <td>1284343215</td>\n",
       "    </tr>\n",
       "    <tr>\n",
       "      <td>2</td>\n",
       "      <td>-1</td>\n",
       "      <td>3</td>\n",
       "      <td>19360735</td>\n",
       "      <td>-1</td>\n",
       "      <td>0</td>\n",
       "      <td>3765056181</td>\n",
       "      <td>1235983246</td>\n",
       "      <td>1310333812</td>\n",
       "      <td>652481754</td>\n",
       "      <td>2116767313</td>\n",
       "      <td>...</td>\n",
       "      <td>0</td>\n",
       "      <td>0</td>\n",
       "      <td>0</td>\n",
       "      <td>0</td>\n",
       "      <td>0</td>\n",
       "      <td>0</td>\n",
       "      <td>0</td>\n",
       "      <td>2840358457</td>\n",
       "      <td>3831440054</td>\n",
       "      <td>1213938795</td>\n",
       "    </tr>\n",
       "    <tr>\n",
       "      <td>3</td>\n",
       "      <td>-1</td>\n",
       "      <td>4</td>\n",
       "      <td>19360737</td>\n",
       "      <td>-1</td>\n",
       "      <td>0</td>\n",
       "      <td>955802445</td>\n",
       "      <td>403381353</td>\n",
       "      <td>2290282995</td>\n",
       "      <td>652481754</td>\n",
       "      <td>2967512603</td>\n",
       "      <td>...</td>\n",
       "      <td>0</td>\n",
       "      <td>0</td>\n",
       "      <td>0</td>\n",
       "      <td>0</td>\n",
       "      <td>0</td>\n",
       "      <td>0</td>\n",
       "      <td>0</td>\n",
       "      <td>4039873369</td>\n",
       "      <td>535829057</td>\n",
       "      <td>3828748840</td>\n",
       "    </tr>\n",
       "    <tr>\n",
       "      <td>4</td>\n",
       "      <td>-1</td>\n",
       "      <td>5</td>\n",
       "      <td>19360752</td>\n",
       "      <td>-1</td>\n",
       "      <td>0</td>\n",
       "      <td>2569487005</td>\n",
       "      <td>2517724481</td>\n",
       "      <td>2463986301</td>\n",
       "      <td>2308170622</td>\n",
       "      <td>2967512603</td>\n",
       "      <td>...</td>\n",
       "      <td>0</td>\n",
       "      <td>0</td>\n",
       "      <td>0</td>\n",
       "      <td>0</td>\n",
       "      <td>0</td>\n",
       "      <td>0</td>\n",
       "      <td>0</td>\n",
       "      <td>907610626</td>\n",
       "      <td>3617851689</td>\n",
       "      <td>4220791646</td>\n",
       "    </tr>\n",
       "    <tr>\n",
       "      <td>5</td>\n",
       "      <td>-1</td>\n",
       "      <td>6</td>\n",
       "      <td>19360756</td>\n",
       "      <td>-1</td>\n",
       "      <td>0</td>\n",
       "      <td>2569487005</td>\n",
       "      <td>2541203883</td>\n",
       "      <td>3489340674</td>\n",
       "      <td>2308170622</td>\n",
       "      <td>2967512603</td>\n",
       "      <td>...</td>\n",
       "      <td>0</td>\n",
       "      <td>0</td>\n",
       "      <td>0</td>\n",
       "      <td>0</td>\n",
       "      <td>0</td>\n",
       "      <td>0</td>\n",
       "      <td>0</td>\n",
       "      <td>3341843272</td>\n",
       "      <td>3617851689</td>\n",
       "      <td>4220791646</td>\n",
       "    </tr>\n",
       "    <tr>\n",
       "      <td>6</td>\n",
       "      <td>-1</td>\n",
       "      <td>7</td>\n",
       "      <td>19360762</td>\n",
       "      <td>-1</td>\n",
       "      <td>0</td>\n",
       "      <td>2569487005</td>\n",
       "      <td>2541203883</td>\n",
       "      <td>345748658</td>\n",
       "      <td>2308170622</td>\n",
       "      <td>2967512603</td>\n",
       "      <td>...</td>\n",
       "      <td>0</td>\n",
       "      <td>0</td>\n",
       "      <td>0</td>\n",
       "      <td>0</td>\n",
       "      <td>0</td>\n",
       "      <td>0</td>\n",
       "      <td>0</td>\n",
       "      <td>113033895</td>\n",
       "      <td>3617851689</td>\n",
       "      <td>4220791646</td>\n",
       "    </tr>\n",
       "    <tr>\n",
       "      <td>7</td>\n",
       "      <td>-1</td>\n",
       "      <td>8</td>\n",
       "      <td>19360768</td>\n",
       "      <td>-1</td>\n",
       "      <td>0</td>\n",
       "      <td>2517733175</td>\n",
       "      <td>1235983246</td>\n",
       "      <td>126861539</td>\n",
       "      <td>652481754</td>\n",
       "      <td>2116767313</td>\n",
       "      <td>...</td>\n",
       "      <td>0</td>\n",
       "      <td>0</td>\n",
       "      <td>0</td>\n",
       "      <td>0</td>\n",
       "      <td>0</td>\n",
       "      <td>0</td>\n",
       "      <td>0</td>\n",
       "      <td>516694455</td>\n",
       "      <td>3831440054</td>\n",
       "      <td>1213938795</td>\n",
       "    </tr>\n",
       "    <tr>\n",
       "      <td>8</td>\n",
       "      <td>-1</td>\n",
       "      <td>9</td>\n",
       "      <td>19360788</td>\n",
       "      <td>-1</td>\n",
       "      <td>0</td>\n",
       "      <td>1681988415</td>\n",
       "      <td>1830830742</td>\n",
       "      <td>639836785</td>\n",
       "      <td>2308170622</td>\n",
       "      <td>2967512603</td>\n",
       "      <td>...</td>\n",
       "      <td>0</td>\n",
       "      <td>0</td>\n",
       "      <td>0</td>\n",
       "      <td>0</td>\n",
       "      <td>1</td>\n",
       "      <td>0</td>\n",
       "      <td>0</td>\n",
       "      <td>205952515</td>\n",
       "      <td>3831440054</td>\n",
       "      <td>245608391</td>\n",
       "    </tr>\n",
       "    <tr>\n",
       "      <td>9</td>\n",
       "      <td>-1</td>\n",
       "      <td>10</td>\n",
       "      <td>19360790</td>\n",
       "      <td>-1</td>\n",
       "      <td>0</td>\n",
       "      <td>2949940329</td>\n",
       "      <td>2541203883</td>\n",
       "      <td>4222740218</td>\n",
       "      <td>2308170622</td>\n",
       "      <td>2967512603</td>\n",
       "      <td>...</td>\n",
       "      <td>0</td>\n",
       "      <td>0</td>\n",
       "      <td>0</td>\n",
       "      <td>0</td>\n",
       "      <td>0</td>\n",
       "      <td>0</td>\n",
       "      <td>0</td>\n",
       "      <td>1931092700</td>\n",
       "      <td>3831440054</td>\n",
       "      <td>1213938795</td>\n",
       "    </tr>\n",
       "  </tbody>\n",
       "</table>\n",
       "<p>10 rows × 27 columns</p>\n",
       "</div>"
      ],
      "text/plain": [
       "   label  id  visitTime  purchaseTime  hour          C1          C2  \\\n",
       "0     -1   1   19360733            -1     0  2569487005   403381353   \n",
       "1     -1   2   19360734            -1     0  2416811818  1235983246   \n",
       "2     -1   3   19360735            -1     0  3765056181  1235983246   \n",
       "3     -1   4   19360737            -1     0   955802445   403381353   \n",
       "4     -1   5   19360752            -1     0  2569487005  2517724481   \n",
       "5     -1   6   19360756            -1     0  2569487005  2541203883   \n",
       "6     -1   7   19360762            -1     0  2569487005  2541203883   \n",
       "7     -1   8   19360768            -1     0  2517733175  1235983246   \n",
       "8     -1   9   19360788            -1     0  1681988415  1830830742   \n",
       "9     -1  10   19360790            -1     0  2949940329  2541203883   \n",
       "\n",
       "           C3          C4          C5  ...  N4  N5  N6  N7  N8  N9  N10  \\\n",
       "0   681762206   652481754  2967512603  ...   0   0   0   0   0   0    0   \n",
       "1  3653557526   652481754  2116767313  ...   0   0   0   0   0   0    0   \n",
       "2  1310333812   652481754  2116767313  ...   0   0   0   0   0   0    0   \n",
       "3  2290282995   652481754  2967512603  ...   0   0   0   0   0   0    0   \n",
       "4  2463986301  2308170622  2967512603  ...   0   0   0   0   0   0    0   \n",
       "5  3489340674  2308170622  2967512603  ...   0   0   0   0   0   0    0   \n",
       "6   345748658  2308170622  2967512603  ...   0   0   0   0   0   0    0   \n",
       "7   126861539   652481754  2116767313  ...   0   0   0   0   0   0    0   \n",
       "8   639836785  2308170622  2967512603  ...   0   0   0   0   1   0    0   \n",
       "9  4222740218  2308170622  2967512603  ...   0   0   0   0   0   0    0   \n",
       "\n",
       "          C10         C11         C12  \n",
       "0  2128770044  3617851689  4220791646  \n",
       "1  4256459078  2379633508  1284343215  \n",
       "2  2840358457  3831440054  1213938795  \n",
       "3  4039873369   535829057  3828748840  \n",
       "4   907610626  3617851689  4220791646  \n",
       "5  3341843272  3617851689  4220791646  \n",
       "6   113033895  3617851689  4220791646  \n",
       "7   516694455  3831440054  1213938795  \n",
       "8   205952515  3831440054   245608391  \n",
       "9  1931092700  3831440054  1213938795  \n",
       "\n",
       "[10 rows x 27 columns]"
      ]
     },
     "execution_count": 34,
     "metadata": {},
     "output_type": "execute_result"
    }
   ],
   "source": [
    "# Open and read the testing data \n",
    "testdf = pd.read_csv(\"test_updated.csv\", encoding='utf8')\n",
    "testdf.head(10)"
   ]
  },
  {
   "cell_type": "code",
   "execution_count": 35,
   "metadata": {},
   "outputs": [
    {
     "data": {
      "text/plain": [
       "-1    32086\n",
       "Name: label, dtype: int64"
      ]
     },
     "execution_count": 35,
     "metadata": {},
     "output_type": "execute_result"
    }
   ],
   "source": [
    "testdf['label'].value_counts()\n",
    "# This test set only has -1's "
   ]
  },
  {
   "cell_type": "code",
   "execution_count": 36,
   "metadata": {},
   "outputs": [],
   "source": [
    "testlabel = testdf['label'].values"
   ]
  },
  {
   "cell_type": "code",
   "execution_count": 37,
   "metadata": {},
   "outputs": [],
   "source": [
    "testdf = testdf.drop(columns=['label','id','visitTime','purchaseTime', 'C1', 'C2', 'C3', 'C4', 'C5', 'C6', 'C8', 'C10', 'C11', 'C12']).values\n",
    "testX = pd.DataFrame(testdf.copy())\n",
    "testy = np.array(testlabel.copy())\n",
    "testy = (testy > 0)*1"
   ]
  },
  {
   "cell_type": "code",
   "execution_count": 38,
   "metadata": {},
   "outputs": [],
   "source": [
    "testy = pd.DataFrame(testy)"
   ]
  },
  {
   "cell_type": "code",
   "execution_count": 39,
   "metadata": {},
   "outputs": [
    {
     "name": "stdout",
     "output_type": "stream",
     "text": [
      "Precision: 1.0 / Recall: 0.999 / F1-Score: 1.0 / Accuracy: 0.999\n",
      "0.9994078414261671\n"
     ]
    }
   ],
   "source": [
    "testy_pred = loaded_model.predict(testX)\n",
    "\n",
    "result = loaded_model.score(testX, testy)\n",
    "precision, recall, fscore, train_support = score(testy, testy_pred, pos_label=0, average='binary')\n",
    "print('Precision: {} / Recall: {} / F1-Score: {} / Accuracy: {}'.format(round(precision, 3), round(recall, 3), round(fscore,3), round(acs(testy,testy_pred), 3)))\n",
    "\n",
    "print(result)"
   ]
  },
  {
   "cell_type": "markdown",
   "metadata": {},
   "source": [
    "# Probabilities and exporting csv file"
   ]
  },
  {
   "cell_type": "code",
   "execution_count": 40,
   "metadata": {},
   "outputs": [
    {
     "data": {
      "text/plain": [
       "array([[1., 0.],\n",
       "       [1., 0.],\n",
       "       [1., 0.],\n",
       "       ...,\n",
       "       [1., 0.],\n",
       "       [1., 0.],\n",
       "       [1., 0.]])"
      ]
     },
     "execution_count": 40,
     "metadata": {},
     "output_type": "execute_result"
    }
   ],
   "source": [
    "loaded_model.predict_proba(testX)"
   ]
  },
  {
   "cell_type": "code",
   "execution_count": 41,
   "metadata": {},
   "outputs": [],
   "source": [
    "prob0=pd.DataFrame(loaded_model.predict_proba(testX)[0:,0])"
   ]
  },
  {
   "cell_type": "code",
   "execution_count": 42,
   "metadata": {},
   "outputs": [],
   "source": [
    "testdf = pd.read_csv(\"test_updated.csv\", encoding='utf8')"
   ]
  },
  {
   "cell_type": "code",
   "execution_count": 43,
   "metadata": {},
   "outputs": [],
   "source": [
    "ID = pd.DataFrame(testdf['id'])"
   ]
  },
  {
   "cell_type": "code",
   "execution_count": 44,
   "metadata": {},
   "outputs": [],
   "source": [
    "finalresult = pd.concat([ID,prob0],axis=1)"
   ]
  },
  {
   "cell_type": "code",
   "execution_count": 45,
   "metadata": {},
   "outputs": [
    {
     "data": {
      "text/html": [
       "<div>\n",
       "<style scoped>\n",
       "    .dataframe tbody tr th:only-of-type {\n",
       "        vertical-align: middle;\n",
       "    }\n",
       "\n",
       "    .dataframe tbody tr th {\n",
       "        vertical-align: top;\n",
       "    }\n",
       "\n",
       "    .dataframe thead th {\n",
       "        text-align: right;\n",
       "    }\n",
       "</style>\n",
       "<table border=\"1\" class=\"dataframe\">\n",
       "  <thead>\n",
       "    <tr style=\"text-align: right;\">\n",
       "      <th></th>\n",
       "      <th>id</th>\n",
       "      <th>0</th>\n",
       "    </tr>\n",
       "  </thead>\n",
       "  <tbody>\n",
       "    <tr>\n",
       "      <td>0</td>\n",
       "      <td>1</td>\n",
       "      <td>1.0</td>\n",
       "    </tr>\n",
       "    <tr>\n",
       "      <td>1</td>\n",
       "      <td>2</td>\n",
       "      <td>1.0</td>\n",
       "    </tr>\n",
       "    <tr>\n",
       "      <td>2</td>\n",
       "      <td>3</td>\n",
       "      <td>1.0</td>\n",
       "    </tr>\n",
       "    <tr>\n",
       "      <td>3</td>\n",
       "      <td>4</td>\n",
       "      <td>1.0</td>\n",
       "    </tr>\n",
       "    <tr>\n",
       "      <td>4</td>\n",
       "      <td>5</td>\n",
       "      <td>1.0</td>\n",
       "    </tr>\n",
       "    <tr>\n",
       "      <td>...</td>\n",
       "      <td>...</td>\n",
       "      <td>...</td>\n",
       "    </tr>\n",
       "    <tr>\n",
       "      <td>32081</td>\n",
       "      <td>32082</td>\n",
       "      <td>1.0</td>\n",
       "    </tr>\n",
       "    <tr>\n",
       "      <td>32082</td>\n",
       "      <td>32083</td>\n",
       "      <td>1.0</td>\n",
       "    </tr>\n",
       "    <tr>\n",
       "      <td>32083</td>\n",
       "      <td>32084</td>\n",
       "      <td>1.0</td>\n",
       "    </tr>\n",
       "    <tr>\n",
       "      <td>32084</td>\n",
       "      <td>32085</td>\n",
       "      <td>1.0</td>\n",
       "    </tr>\n",
       "    <tr>\n",
       "      <td>32085</td>\n",
       "      <td>32086</td>\n",
       "      <td>1.0</td>\n",
       "    </tr>\n",
       "  </tbody>\n",
       "</table>\n",
       "<p>32086 rows × 2 columns</p>\n",
       "</div>"
      ],
      "text/plain": [
       "          id    0\n",
       "0          1  1.0\n",
       "1          2  1.0\n",
       "2          3  1.0\n",
       "3          4  1.0\n",
       "4          5  1.0\n",
       "...      ...  ...\n",
       "32081  32082  1.0\n",
       "32082  32083  1.0\n",
       "32083  32084  1.0\n",
       "32084  32085  1.0\n",
       "32085  32086  1.0\n",
       "\n",
       "[32086 rows x 2 columns]"
      ]
     },
     "execution_count": 45,
     "metadata": {},
     "output_type": "execute_result"
    }
   ],
   "source": [
    "finalresult"
   ]
  },
  {
   "cell_type": "code",
   "execution_count": 47,
   "metadata": {},
   "outputs": [],
   "source": [
    "finalresult.to_csv('/Users/olympiahilverda/probafinal.csv')"
   ]
  },
  {
   "cell_type": "code",
   "execution_count": null,
   "metadata": {},
   "outputs": [],
   "source": []
  }
 ],
 "metadata": {
  "kernelspec": {
   "display_name": "Python 3",
   "language": "python",
   "name": "python3"
  },
  "language_info": {
   "codemirror_mode": {
    "name": "ipython",
    "version": 3
   },
   "file_extension": ".py",
   "mimetype": "text/x-python",
   "name": "python",
   "nbconvert_exporter": "python",
   "pygments_lexer": "ipython3",
   "version": "3.7.4"
  }
 },
 "nbformat": 4,
 "nbformat_minor": 2
}
